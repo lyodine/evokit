{
 "cells": [
  {
   "cell_type": "markdown",
   "metadata": {},
   "source": [
    "Make it possible to import local modules"
   ]
  },
  {
   "cell_type": "code",
   "execution_count": 81,
   "metadata": {},
   "outputs": [],
   "source": [
    "import os\n",
    "import sys\n",
    "nb_dir = os.path.split(os.getcwd())[0]\n",
    "if nb_dir not in sys.path:\n",
    "    sys.path.append(nb_dir)"
   ]
  },
  {
   "cell_type": "markdown",
   "metadata": {},
   "source": [
    "The OneMax problem is a canonical optimization problem in evolutionary learning. Given a bit string of a given length, the algorithm seeks to maximize its _fitness_ - which, in this context, is the sum of its digits. The _variator_ creates offspring by flipping each bit with a probability.\n",
    "\n",
    "For a conrete example, the string\n",
    "$$X=[1,1,0,0,0],$$\n",
    "has a fitness of $2$ (for $1+1+0+0+0$). The variator then creates 2 children: $X'_1=[1,\\color{red}0\\color{defaultcolor},\\color{green}1\\color{defaultcolor},0,0]$ with fitness $2$ and $X'_2=[1,1,0,0,\\color{green}1\\color{defaultcolor}]$ with fitness $3$. The selector chooses $X'_2$, whose fitness is higher.\n",
    "\n",
    "The _mutation rate_ - probability that each bit is flippped - is a parameter. The optimal value should be dynamic, and depend on the size of a string as well as the density of \"1\"s. For example, mutation rate for the string\n",
    "$$[0,0,0,0,0]$$\n",
    "should be as high as possible, because any change will result in a increase in fitness. This example does not use a dynamic parameter, however.\n",
    "\n",
    "The optimal mutation rate has been found[^1].\n",
    "\n",
    "[^1]: https://arxiv.org/abs/2006.11457"
   ]
  },
  {
   "cell_type": "markdown",
   "metadata": {},
   "source": [
    "Code begins here. Start with importing core modules."
   ]
  },
  {
   "cell_type": "code",
   "execution_count": 82,
   "metadata": {},
   "outputs": [],
   "source": [
    "import typing\n",
    "import random\n",
    "from typing import TypeVar\n",
    "from typing import Tuple\n",
    "from typing import Optional\n",
    "from core.controller import Controller\n",
    "from core.evaluator import Evaluator\n",
    "from core.population import Population\n",
    "from core.population import Genome\n",
    "from core.variator import Variator\n",
    "from core.controller import Controller\n",
    "from core.selector import Elitist\n",
    "from core.selector import SimpleSelector\n",
    "from core.selector import TournamentSelector\n"
   ]
  },
  {
   "cell_type": "markdown",
   "metadata": {},
   "source": [
    "Declare exceptions for the learning process."
   ]
  },
  {
   "cell_type": "code",
   "execution_count": 83,
   "metadata": {},
   "outputs": [],
   "source": [
    "class IllegalVariation(Exception):\n",
    "    def __init__(self):\n",
    "        super().__init__(\"Given index out of bound!\")\n",
    "\n",
    "T = TypeVar('T', bound=Genome)"
   ]
  },
  {
   "cell_type": "markdown",
   "metadata": {},
   "source": [
    "Declare the binary string representation `Binary` (a poor name), override necessary methods.\n",
    "\n",
    "This is in fact [part of the framework](../evolvables/main.py), which is copied here verbatim. Once the representation is declared, the user can reuse it."
   ]
  },
  {
   "cell_type": "code",
   "execution_count": 84,
   "metadata": {},
   "outputs": [],
   "source": [
    "class Binary(Genome[T]):\n",
    "    def __init__(self, len: int, value: typing.Optional[int] = None) -> None: \n",
    "        super().__init__()\n",
    "        self.length = len\n",
    "        if (value is None):\n",
    "            self._value = 0\n",
    "        else:\n",
    "            self._value = value\n",
    "    \n",
    "    def _assert_index_is_valid(self, pos: int):\n",
    "        if pos >= self.length:\n",
    "            raise IllegalVariation\n",
    "\n",
    "    def toggle(self, pos: int):\n",
    "        self._assert_index_is_valid(pos)\n",
    "        self._value = (self._value ^ (1 << (pos)))\n",
    "\n",
    "\n",
    "    def __len__(self) -> int:\n",
    "        return self.length\n",
    "    \n",
    "    @classmethod\n",
    "    def create_random(cls, len:int) -> typing.Self:\n",
    "        bin = cls(len)\n",
    "        for i in range(0, len):\n",
    "            if (bool(random.getrandbits(1))):\n",
    "                bin.toggle(i)\n",
    "        return bin\n",
    "\n",
    "    @property\n",
    "    def value(self):\n",
    "        return self._value\n",
    "    \n",
    "    def copy(self) -> typing.Self:\n",
    "        new_copy = self.__class__(self.length, self.value)\n",
    "        return new_copy\n",
    "    \n",
    "    __deepcopy__ = copy\n",
    "    __copy__ = copy\n",
    "\n",
    "    def __str__(self):\n",
    "        # return str(bin(self._value))[2:].ljust(self.length, '0')\n",
    "        return str(bin(self._value))[2:].rjust(self.length, '0')"
   ]
  },
  {
   "cell_type": "markdown",
   "metadata": {},
   "source": [
    "Then, declare the evaluator `BitDistanceEvaluator`. It simply sums the bits in a `Binary` string."
   ]
  },
  {
   "cell_type": "code",
   "execution_count": 85,
   "metadata": {},
   "outputs": [],
   "source": [
    "class BitDistanceEvaluator(Evaluator[Binary]):\n",
    "    def evaluate(self, s1: Binary) -> float:\n",
    "        return s1._value.bit_count()"
   ]
  },
  {
   "cell_type": "markdown",
   "metadata": {},
   "source": [
    "Then, declare the variator `RandomBitMutator`. The name \"mutator\" means that the variator create offspring with only one parent. If more than one parent is used, then it becomes a _crossover operator_."
   ]
  },
  {
   "cell_type": "code",
   "execution_count": 86,
   "metadata": {},
   "outputs": [],
   "source": [
    "class RandomBitMutator(Variator[Binary]):\n",
    "    def __init__ (self, mr = 0.001):\n",
    "        super().__init__(1, 2)\n",
    "        self.mr = mr\n",
    "\n",
    "    def vary(self, parents: Tuple[Binary, ...], **kwargs) -> Tuple[Binary, ...]:\n",
    "        binary = parents[0].copy()\n",
    "        newbits = parents[0].copy()\n",
    "        \n",
    "        for i in range(0, len(binary)): # Somehow cannot properly implement the __len__ dunder \n",
    "            if (random.random()<self.mr):\n",
    "                binary.toggle(i)\n",
    "                newbits.toggle(i)\n",
    "        return (binary, newbits)\n"
   ]
  },
  {
   "cell_type": "markdown",
   "metadata": {},
   "source": [
    "Running the code is simple, once the necessary operators are declared.\n",
    "\n",
    "Note how the population size goes up during the first few generations. The initial population has 10 items. The variator creates several children, while the selector enforces the population size limit of 100."
   ]
  },
  {
   "cell_type": "code",
   "execution_count": 87,
   "metadata": {},
   "outputs": [],
   "source": [
    "# Initialize population.\n",
    "init_pop = Population[Binary]()\n",
    "\n",
    "# The length of each bit string is 100.\n",
    "REPR_LEN = 100\n",
    "\n",
    "for i in range (0, 10):\n",
    "    init_pop.append(Binary.create_random(100))\n",
    "\n",
    "evaluator = BitDistanceEvaluator()\n",
    "# The \"elistst\" wrapper maintains the best genome so far. It deposites that\n",
    "#   genome into subsequent generations.\n",
    "pselector = Elitist(SimpleSelector[Binary](1, 100))\n",
    "cselector = Elitist(SimpleSelector[Binary](1, 100))\n",
    "variator = RandomBitMutator(0.006)\n",
    "\n",
    "ctrl = Controller[Binary] (\n",
    "    population = init_pop,\n",
    "    evaluator = evaluator,\n",
    "    variator = variator,\n",
    "    survivor_selector = pselector,\n",
    "    parent_selector = cselector\n",
    ")\n"
   ]
  },
  {
   "cell_type": "markdown",
   "metadata": {},
   "source": [
    "Start the training process. During each iteration, record some data. Display that data."
   ]
  },
  {
   "cell_type": "code",
   "execution_count": 88,
   "metadata": {},
   "outputs": [
    {
     "name": "stdout",
     "output_type": "stream",
     "text": [
      "  generation    population size    best score    worst score\n",
      "------------  -----------------  ------------  -------------\n",
      "           1                 23            55             44\n",
      "           2                 49            57             44\n",
      "           3                101            58             44\n",
      "           4                101            58             50\n",
      "           5                101            59             54\n",
      "           6                101            60             56\n",
      "           7                101            61             57\n",
      "           8                101            61             58\n",
      "           9                101            62             59\n",
      "          10                101            63             60\n",
      "          11                101            63             61\n",
      "          12                101            65             61\n",
      "          13                101            66             62\n",
      "          14                101            66             63\n",
      "          15                101            67             64\n",
      "          16                101            68             65\n",
      "          17                101            69             65\n",
      "          18                101            71             66\n",
      "          19                101            71             67\n",
      "          20                101            72             67\n",
      "          21                101            73             68\n",
      "          22                101            73             70\n",
      "          23                101            73             70\n",
      "          24                101            73             71\n",
      "          25                101            74             72\n",
      "          26                101            75             72\n",
      "          27                101            75             73\n",
      "          28                101            76             73\n",
      "          29                101            76             73\n",
      "          30                101            77             74\n",
      "          31                101            77             74\n",
      "          32                101            77             75\n",
      "          33                101            78             76\n",
      "          34                101            78             76\n",
      "          35                101            79             77\n",
      "          36                101            80             77\n",
      "          37                101            81             78\n",
      "          38                101            81             78\n",
      "          39                101            82             79\n",
      "          40                101            82             79\n",
      "          41                101            83             80\n",
      "          42                101            83             81\n",
      "          43                101            83             81\n",
      "          44                101            84             81\n",
      "          45                101            84             82\n",
      "          46                101            86             82\n",
      "          47                101            86             83\n",
      "          48                101            86             83\n",
      "          49                101            87             84\n",
      "          50                101            87             84\n",
      "          51                101            87             85\n",
      "          52                101            87             85\n",
      "          53                101            87             86\n",
      "          54                101            88             86\n",
      "          55                101            88             86\n",
      "          56                101            89             86\n",
      "          57                101            89             87\n",
      "          58                101            90             87\n",
      "          59                101            90             88\n",
      "          60                101            90             88\n",
      "          61                101            90             88\n",
      "          62                101            91             89\n",
      "          63                101            91             89\n",
      "          64                101            91             89\n",
      "          65                101            92             90\n",
      "          66                101            92             90\n",
      "          67                101            92             90\n",
      "          68                101            93             91\n",
      "          69                101            93             91\n",
      "          70                101            93             91\n",
      "          71                101            94             91\n",
      "          72                101            94             91\n",
      "          73                101            94             92\n",
      "          74                101            94             92\n",
      "          75                101            95             92\n",
      "          76                101            95             92\n",
      "          77                101            95             93\n",
      "          78                101            95             93\n",
      "          79                101            95             93\n",
      "          80                101            95             93\n",
      "          81                101            95             93\n",
      "          82                101            95             94\n",
      "          83                101            96             94\n",
      "          84                101            96             94\n",
      "          85                101            97             95\n",
      "          86                101            97             95\n",
      "          87                101            97             95\n",
      "          88                101            97             95\n",
      "          89                101            97             95\n",
      "          90                101            97             95\n",
      "          91                101            97             96\n",
      "          92                101            97             96\n",
      "          93                101            97             96\n",
      "          94                101            97             96\n",
      "          95                101            97             96\n",
      "          96                101            98             96\n",
      "          97                101            98             96\n",
      "          98                101            98             96\n",
      "          99                101            98             96\n",
      "         100                101            98             96\n"
     ]
    }
   ],
   "source": [
    "dicts : typing.Dict[int, Optional[float]]= {}\n",
    "\n",
    "for i in range(1, 101):\n",
    "    ctrl.step()\n",
    "    dicts[i] = {\"population size\" : len(ctrl.population),\n",
    "                \"best score\" : ctrl.population[0].score,\n",
    "                \"worst score\" : ctrl.population[-1].score}\n",
    "\n",
    "from tabulate import tabulate\n",
    "\n",
    "# Kludge a table for evolution process\n",
    "plist = []\n",
    "for i in dicts:\n",
    "    plist.append([i] + list(dicts[i].values()))\n",
    "\n",
    "\n",
    "\n",
    "print(tabulate(plist, headers=[\"generation\"] + list(dicts[i].keys())))"
   ]
  },
  {
   "cell_type": "markdown",
   "metadata": {},
   "source": [
    "Plot it."
   ]
  },
  {
   "cell_type": "code",
   "execution_count": 89,
   "metadata": {},
   "outputs": [
    {
     "data": {
      "image/png": "[encoded data removed]",
      "text/plain": [
       "<Figure size 640x480 with 1 Axes>"
      ]
     },
     "metadata": {},
     "output_type": "display_data"
    }
   ],
   "source": [
    "import matplotlib.pyplot as plt\n",
    "\n",
    "plt.plot([x[0] for x in plist], [x[2] for x in plist])\n",
    "plt.title(\"Training Curve\")\n",
    "plt.xlabel(\"Generation\")\n",
    "plt.ylabel(\"Best Fitness\")\n",
    "plt.show()"
   ]
  }
 ],
 "metadata": {
  "kernelspec": {
   "display_name": "Python 3",
   "language": "python",
   "name": "python3"
  },
  "language_info": {
   "codemirror_mode": {
    "name": "ipython",
    "version": 3
   },
   "file_extension": ".py",
   "mimetype": "text/x-python",
   "name": "python",
   "nbconvert_exporter": "python",
   "pygments_lexer": "ipython3",
   "version": "3.12.0"
  }
 },
 "nbformat": 4,
 "nbformat_minor": 2
}