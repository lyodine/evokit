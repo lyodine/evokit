{
 "cells": [
  {
   "cell_type": "markdown",
   "metadata": {},
   "source": [
    "While mode and for mode"
   ]
  },
  {
   "cell_type": "code",
   "execution_count": 75,
   "metadata": {},
   "outputs": [
    {
     "data": {
      "text/plain": [
       "array([1, 1, 1, 1, 1, 1, 1, 1, 1, 1])"
      ]
     },
     "execution_count": 75,
     "metadata": {},
     "output_type": "execute_result"
    }
   ],
   "source": [
    "import numpy as np\n"
   ]
  },
  {
   "cell_type": "code",
   "execution_count": 32,
   "metadata": {},
   "outputs": [],
   "source": [
    "from typing import Annotated, Sequence\n",
    "\n",
    "# It's just so appropriate here.\n",
    "import numpy\n",
    "\n",
    "from functools import singledispatch\n",
    "class Instruction():\n",
    "    pass\n",
    "\n",
    "from dataclasses import dataclass\n",
    "\n",
    "@dataclass\n",
    "class ValueRange:\n",
    "    min: float\n",
    "    max: float\n"
   ]
  },
  {
   "cell_type": "code",
   "execution_count": 21,
   "metadata": {},
   "outputs": [],
   "source": [
    "from dataclasses import dataclass\n",
    "from typing import Tuple\n",
    "from typing import Self\n",
    "from typing import Callable\n",
    "\n",
    "\n",
    "@dataclass\n",
    "class Operation(Instruction):\n",
    "    def __init__(self: Self,\n",
    "                 function: Callable[..., float],\n",
    "                 target: Annotated[int, ValueRange(0, float('inf'))],\n",
    "                 args: Tuple[int, ...]):\n",
    "        \n",
    "        #: Function of the operation.\n",
    "        self.function: Callable[..., float] = function\n",
    "\n",
    "        #: Index of the target register.\n",
    "        self.target: int = target\n",
    "        \n",
    "        has_no_register_operand: bool = True\n",
    "        for reg in args:\n",
    "            if reg >= 0:\n",
    "                has_no_register_operand = False\n",
    "\n",
    "        if (has_no_register_operand):\n",
    "            raise ValueError(f\"Operand registers are all constants\")\n",
    "        #: Indices of operand registers\n",
    "        self.args: Tuple[int, ...] = args\n",
    "\n",
    "    def __str__(self: Self):\n",
    "        args: str = ', '.join((f\"r[{x}]\" if x >= 0 else f\"c[{-x-1}]\" for x in self.args))\n",
    "        function_name: str = getattr(self.function,\n",
    "                                     '__name__',\n",
    "                                     repr(self.function))\n",
    "        \n",
    "        return f\"r[{self.target}] <- {function_name}({args})\"\n",
    "    \n",
    "    __repr__ = __str__\n"
   ]
  },
  {
   "cell_type": "markdown",
   "metadata": {},
   "source": [
    "Use these parameters:\n",
    "(a) arity\n",
    "\n",
    "two modes:\n",
    "if `inputs_can_change` is `True`: then append input registers to the end of the registers\n",
    "otherwise, append input registers to constants\n",
    "\n",
    "Append output registers to the last\n",
    "\n"
   ]
  },
  {
   "cell_type": "code",
   "execution_count": 113,
   "metadata": {},
   "outputs": [],
   "source": [
    "# arity: number of input registers\n",
    "\n",
    "# parameter: number of output registers\n",
    "\n",
    "# reg_length: length of registers\n",
    "\n",
    "# inputs_can_change:\n",
    "\n",
    "from typing import Self\n",
    "\n",
    "from numbers import Number\n",
    "\n",
    "from typing import TypeVar, Generic\n",
    "T = TypeVar(\"T\")\n",
    "\n",
    "\n",
    "from numpy.typing import NDArray\n",
    "\n",
    "from numpy import float64\n",
    "\n",
    "class LinearProgram():\n",
    "    def __init__(self: Self,\n",
    "                 coarity: int,\n",
    "                 inputs: Sequence[float],\n",
    "                 input_can_change: bool,\n",
    "                 reg_length: int,\n",
    "                 constants: Sequence[float],\n",
    "                 initialiser: float | Callable[[], float]):\n",
    "        \n",
    "        #: Number of output registers\n",
    "        self.coarity: int\n",
    "        self.coarity = coarity\n",
    "\n",
    "        self.registers: NDArray[np.float64]\n",
    "\n",
    "        self.constants: NDArray[np.float64]\n",
    "\n",
    "        if isinstance(initialiser, Number):\n",
    "            self.registers = np.full(reg_length, initialiser, dtype=float64)\n",
    "        elif (callable(initialiser)):\n",
    "            self.registers = np.empty(reg_length, dtype=float64)\n",
    "            for i in range(len(self.registers)):\n",
    "                self.registers[i] = initialiser()\n",
    "        else:\n",
    "            raise ValueError(\"Initialiser is not callable and not a value.\")\n",
    "        \n",
    "        # Initialise constants\n",
    "        self.constants = np.fromiter(constants, dtype=float64)\n",
    "        self.constants.flags.writeable = False\n",
    "\n",
    "        # Append input registers to either constants or registers\n",
    "        if input_can_change:\n",
    "            self.registers = np.append(self.registers, inputs)\n",
    "        else:\n",
    "            self.constants = np.append(self.constants, inputs)\n",
    "\n",
    "    def run(self: Self, instructions: Sequence[Instruction]) -> NDArray[np.float64]:\n",
    "        for instruction in instructions:\n",
    "            self.run_instruction(instruction)\n",
    "\n",
    "        return self.get_output_values()\n",
    "\n",
    "    def run_instruction(self: Self, instruction: Instruction) -> None:\n",
    "        match instruction:\n",
    "            case Operation():\n",
    "                self._run_operation(instruction)\n",
    "\n",
    "    def get_output_values(self: Self) -> NDArray[np.float64]:\n",
    "        return self.registers[:self.coarity]\n",
    "\n",
    "\n",
    "    def _run_operation(self: Self, instruction: Operation):\n",
    "        if instruction.target < 0:\n",
    "            raise ValueError(f\"Malformed instruction: assignment to c[{-instruction.target-1}]\")\n",
    "        else:\n",
    "            self.registers[instruction.target] =\\\n",
    "                instruction.function(\n",
    "                    *(self.constants[-i-1] if i < 0 else self.registers[i]\\\n",
    "                      for i in instruction.args))\n",
    "\n",
    "        print(str(instruction))\n",
    "\n",
    "    def __str__(self: Self):\n",
    "        return (f\"Linear program. Current output values: {self.get_output_values()}\\n\") +\\\n",
    "                f\"Constants c = {str(self.constants)}\" +\\\n",
    "                f\"Registers r = {str(self.registers)}\"\n",
    "\n",
    "    __repr__ = __str__"
   ]
  },
  {
   "cell_type": "code",
   "execution_count": 107,
   "metadata": {},
   "outputs": [],
   "source": [
    "import random\n",
    "\n",
    "A = LinearProgram(coarity = 3,\n",
    "                  inputs = (1,2,3),\n",
    "                  input_can_change = False,\n",
    "                  reg_length = 4,\n",
    "                  constants = (5,6,7),\n",
    "                  initialiser = random.random)"
   ]
  },
  {
   "cell_type": "code",
   "execution_count": 109,
   "metadata": {},
   "outputs": [],
   "source": [
    "def add(a,b):\n",
    "    return a + b\n",
    "\n",
    "def sub(a,b):\n",
    "    return a + b\n"
   ]
  },
  {
   "cell_type": "code",
   "execution_count": 112,
   "metadata": {},
   "outputs": [
    {
     "name": "stdout",
     "output_type": "stream",
     "text": [
      "r[1] <- add(r[2], r[3])\n",
      "r[0] <- sub(r[1], r[2])\n",
      "r[2] <- add(c[1], r[2])\n",
      "Linear program. Current output values: [19.30583654 24.81907673  0.48675981]\n",
      "Constants c = [5. 6. 7. 1. 2. 3.]Registers r = [38.12491327 19.30583654 24.81907673  0.48675981]\n"
     ]
    }
   ],
   "source": [
    "oprs = [Operation(add, 1, (2, 3)),\n",
    "        Operation(sub, 0, (1, 2)),\n",
    "        Operation(add, 2, (-2, 2)),]\n",
    "\n",
    "A.run(oprs)\n",
    "print(str(A))\n"
   ]
  },
  {
   "cell_type": "code",
   "execution_count": null,
   "metadata": {},
   "outputs": [],
   "source": [
    "from abc import ABC\n",
    "\n",
    "type Runner = Callable[[LinearProgram, Sequence[Instruction]], None]\n",
    "\n",
    "class StructToLines(ABC):\n",
    "    def __init__(self: Self):\n",
    "        self.action: Callable[[Sequence[Instruction]], None]\n",
    "\n",
    "class StructUntilLabel(ABC):\n",
    "    def __init__(self: Self):\n",
    "        self.action: Callable[[Sequence[Instruction]], None]\n",
    "\n",
    "class StructNextLine(ABC):\n",
    "    def __init__(self: Self):\n",
    "        self.action: Runner\n",
    "\n",
    "    @property\n",
    "    def action(self, lgp, ) -> None:\n",
    "        Runner\n",
    "\n",
    "\n",
    "    \n",
    "\n",
    "# for, while, if"
   ]
  },
  {
   "cell_type": "code",
   "execution_count": 54,
   "metadata": {},
   "outputs": [],
   "source": [
    "from functools import singledispatch\n",
    "\n",
    "class A():\n",
    "    pass\n",
    "class B():\n",
    "    pass\n",
    "class C():\n",
    "    pass\n",
    "\n",
    "def returnA(o):\n",
    "    return \"A\"\n",
    "\n",
    "def returnB(o):\n",
    "    return \"B\"\n",
    "\n",
    "def returnC(o):\n",
    "    return \"C\"\n",
    "\n",
    "def dispatch_by_class(o):\n",
    "    if isinstance(o, A):\n",
    "        return returnA(o)\n",
    "    elif isinstance(o, B):\n",
    "        return returnB(o)\n",
    "    else:\n",
    "        return returnC(o)\n",
    "    \n",
    "def dispatch_by_match(o):\n",
    "    \n",
    "    match o:\n",
    "        case A():\n",
    "            return returnA(o)\n",
    "        case B():\n",
    "            return returnB(o)\n",
    "        case C():\n",
    "            return returnC(o)\n",
    "        \n",
    "    \n",
    "def dispatch_with_dict(o):\n",
    "    dicts = {\n",
    "        A: returnA,\n",
    "        B: returnB,\n",
    "        C: returnC\n",
    "    }\n",
    "    return dicts[type(o)](o)\n",
    "\n",
    "@singledispatch\n",
    "def dispatch(o):\n",
    "    raise TypeError(\"fail to dispatch\")\n",
    "\n",
    "@dispatch.register(A)\n",
    "def dispatch_A(o):\n",
    "    return \"A\"\n",
    "\n",
    "@dispatch.register(B)\n",
    "def dispatch_B(o):\n",
    "    return \"B\"\n",
    "\n",
    "@dispatch.register(C)\n",
    "def dispatch_C(o):\n",
    "    return \"C\"\n",
    "\n",
    "from functools import singledispatchmethod\n",
    "\n",
    "class PRINTER():\n",
    "\n",
    "    @singledispatchmethod\n",
    "    def print_me(self, other):\n",
    "        raise TypeError(\"what\")\n",
    "\n",
    "    @print_me.register\n",
    "    def _(self, other: A):\n",
    "        return returnA(other)\n",
    "\n",
    "    @print_me.register\n",
    "    def _(self, other: B):\n",
    "        return returnB(other)\n",
    "\n",
    "    @print_me.register\n",
    "    def _(self, other: C):\n",
    "        return returnC(other)\n",
    "    \n",
    "P = PRINTER()\n"
   ]
  },
  {
   "cell_type": "code",
   "execution_count": 55,
   "metadata": {},
   "outputs": [],
   "source": [
    "a = A()\n",
    "b = B()\n",
    "c = C()"
   ]
  },
  {
   "cell_type": "code",
   "execution_count": 56,
   "metadata": {},
   "outputs": [
    {
     "name": "stdout",
     "output_type": "stream",
     "text": [
      "284 ns ± 29.5 ns per loop (mean ± std. dev. of 7 runs, 1,000,000 loops each)\n"
     ]
    }
   ],
   "source": [
    "%timeit dispatch_with_dict(a)"
   ]
  },
  {
   "cell_type": "code",
   "execution_count": 57,
   "metadata": {},
   "outputs": [
    {
     "name": "stdout",
     "output_type": "stream",
     "text": [
      "109 ns ± 7.66 ns per loop (mean ± std. dev. of 7 runs, 10,000,000 loops each)\n"
     ]
    }
   ],
   "source": [
    "%timeit dispatch_by_class(a)"
   ]
  },
  {
   "cell_type": "code",
   "execution_count": 58,
   "metadata": {},
   "outputs": [
    {
     "name": "stdout",
     "output_type": "stream",
     "text": [
      "402 ns ± 4.06 ns per loop (mean ± std. dev. of 7 runs, 1,000,000 loops each)\n"
     ]
    }
   ],
   "source": [
    "%timeit dispatch(a)"
   ]
  },
  {
   "cell_type": "code",
   "execution_count": 59,
   "metadata": {},
   "outputs": [
    {
     "name": "stdout",
     "output_type": "stream",
     "text": [
      "2.47 µs ± 69 ns per loop (mean ± std. dev. of 7 runs, 100,000 loops each)\n"
     ]
    }
   ],
   "source": [
    "%timeit P.print_me(a)"
   ]
  },
  {
   "cell_type": "code",
   "execution_count": 60,
   "metadata": {},
   "outputs": [
    {
     "name": "stdout",
     "output_type": "stream",
     "text": [
      "176 ns ± 10.4 ns per loop (mean ± std. dev. of 7 runs, 10,000,000 loops each)\n"
     ]
    }
   ],
   "source": [
    "%timeit dispatch_by_match(a)"
   ]
  }
 ],
 "metadata": {
  "kernelspec": {
   "display_name": "Python 3",
   "language": "python",
   "name": "python3"
  },
  "language_info": {
   "codemirror_mode": {
    "name": "ipython",
    "version": 3
   },
   "file_extension": ".py",
   "mimetype": "text/x-python",
   "name": "python",
   "nbconvert_exporter": "python",
   "pygments_lexer": "ipython3",
   "version": "3.12.0"
  }
 },
 "nbformat": 4,
 "nbformat_minor": 2
}
