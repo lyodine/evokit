{
 "cells": [
  {
   "cell_type": "markdown",
   "metadata": {},
   "source": [
    "While mode and for mode"
   ]
  },
  {
   "cell_type": "code",
   "execution_count": 35,
   "metadata": {},
   "outputs": [],
   "source": [
    "from typing import Annotated, Sequence\n",
    "\n",
    "class Instruction():\n",
    "    pass\n",
    "\n",
    "from dataclasses import dataclass\n",
    "\n",
    "@dataclass\n",
    "class ValueRange:\n",
    "    min: float\n",
    "    max: float\n"
   ]
  },
  {
   "cell_type": "code",
   "execution_count": 34,
   "metadata": {},
   "outputs": [
    {
     "name": "stdout",
     "output_type": "stream",
     "text": [
      "9223372036854775807\n"
     ]
    }
   ],
   "source": [
    "import sys\n",
    "print()"
   ]
  },
  {
   "cell_type": "code",
   "execution_count": 29,
   "metadata": {},
   "outputs": [],
   "source": [
    "from dataclasses import dataclass\n",
    "from typing import Tuple\n",
    "from typing import Self\n",
    "from typing import Callable\n",
    "\n",
    "\n",
    "@dataclass\n",
    "class Operation(Instruction):\n",
    "    def __init__(self: Self,\n",
    "                 function: Callable[..., float],\n",
    "                 target: Annotated[int, ValueRange(0, float('inf'))],\n",
    "                 args: Tuple[int, ...]):\n",
    "        \n",
    "        #: Function of the operation.\n",
    "        self.function: Callable[..., float] = function\n",
    "\n",
    "        if target < 0:\n",
    "            raise ValueError(f\"Target index c[{-self.target+1}] is a constant\")\n",
    "\n",
    "        #: Index of the target register.\n",
    "        self.target: int = target\n",
    "        \n",
    "        has_no_register_operand: bool = True\n",
    "        for reg in args:\n",
    "            if reg >= 0:\n",
    "                has_no_register_operand = False\n",
    "\n",
    "        if (has_no_register_operand):\n",
    "            raise ValueError(f\"Operand registers are all constants\")\n",
    "        #: Indices of operand registers\n",
    "        self.args: Tuple[int, ...] = args\n",
    "\n",
    "    def __str__(self: Self):\n",
    "        args: str = ', '.join((f\"r[{x}]\" if x >= 0 else f\"c[{-x-1}]\" for x in self.args))\n",
    "        function_name: str = getattr(self.function,\n",
    "                                     '__name__',\n",
    "                                     repr(self.function))\n",
    "        \n",
    "        return f\"r[{self.target}] <- {function_name}({args})\"\n",
    "    \n",
    "    __repr__ = __str__\n"
   ]
  },
  {
   "cell_type": "code",
   "execution_count": 30,
   "metadata": {},
   "outputs": [
    {
     "data": {
      "text/plain": [
       "'r[1] <- add(c[0], r[3])'"
      ]
     },
     "execution_count": 30,
     "metadata": {},
     "output_type": "execute_result"
    }
   ],
   "source": [
    "def add(a,b):\n",
    "    return a + b\n",
    "ax = Operation(add, 1, (-1,3))\n",
    "str(ax)"
   ]
  },
  {
   "cell_type": "markdown",
   "metadata": {},
   "source": [
    "Use these parameters:\n",
    "(a) arity\n",
    "\n",
    "two modes:\n",
    "if `inputs_can_change` is `True`: then append input registers to the end of the registers\n",
    "otherwise, append input registers to constants\n",
    "\n",
    "Append output registers to the last\n",
    "\n"
   ]
  },
  {
   "cell_type": "code",
   "execution_count": null,
   "metadata": {},
   "outputs": [],
   "source": [
    "# arity: number of input registers\n",
    "\n",
    "# parameter: number of output registers\n",
    "\n",
    "# reg_length: length of registers\n",
    "\n",
    "# inputs_can_change:\n",
    "\n",
    "from typing import Self\n",
    "\n",
    "class LinearProgram():\n",
    "    def __init__(self: Self,\n",
    "                 arity: int,\n",
    "                 coarity: int,\n",
    "                 reg_length: int,\n",
    "                 initialiser: Callable[[], float],\n",
    "                 constants: Tuple[float, ...]):\n",
    "        \n",
    "        self.arity = arity\n",
    "        self.coarity = coarity\n",
    "        self.regs = [initialiser() for _ in range(reg_length)]\n",
    "        self.position = 0\n",
    "\n",
    "        if self.\n",
    "        It's possible! Run each, loop collect, run each.\n",
    "        One might even call it ... trivial.\n",
    "\n",
    "    def run(self: Self, instructions: Sequence[Instruction]):\n",
    "        while self.position < len(instructions):\n",
    "            self.run_instruction(instructions[self.position])\n",
    "            self.position += 1\n",
    "\n",
    "        return self.regs[-self.coarity:]\n",
    "\n",
    "    def run_instruction(self: Self, instruction: Instruction):\n",
    "        print(str(instruction))\n"
   ]
  },
  {
   "cell_type": "code",
   "execution_count": 12,
   "metadata": {},
   "outputs": [
    {
     "data": {
      "text/plain": [
       "[r[1] <- add(r[2], r[3]), r[1] <- add(r[2], r[3])]"
      ]
     },
     "execution_count": 12,
     "metadata": {},
     "output_type": "execute_result"
    }
   ],
   "source": []
  }
 ],
 "metadata": {
  "kernelspec": {
   "display_name": "Python 3",
   "language": "python",
   "name": "python3"
  },
  "language_info": {
   "codemirror_mode": {
    "name": "ipython",
    "version": 3
   },
   "file_extension": ".py",
   "mimetype": "text/x-python",
   "name": "python",
   "nbconvert_exporter": "python",
   "pygments_lexer": "ipython3",
   "version": "3.12.0"
  }
 },
 "nbformat": 4,
 "nbformat_minor": 2
}
