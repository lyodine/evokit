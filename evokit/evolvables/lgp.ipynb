{
 "cells": [
  {
   "cell_type": "markdown",
   "metadata": {},
   "source": [
    "While mode and for mode"
   ]
  },
  {
   "cell_type": "code",
   "execution_count": 12,
   "metadata": {},
   "outputs": [],
   "source": [
    "class Instruction():\n",
    "    pass"
   ]
  },
  {
   "cell_type": "code",
   "execution_count": 21,
   "metadata": {},
   "outputs": [],
   "source": [
    "from dataclasses import dataclass\n",
    "from typing import Tuple\n",
    "from typing import Self\n",
    "from typing import Callable\n",
    "\n",
    "@dataclass\n",
    "class Operation(Instruction):\n",
    "    function: Callable\n",
    "    target: int\n",
    "    args: Tuple[int, ...]\n",
    "\n",
    "    def __str__(self: Self):\n",
    "        args: str = ', '.join((f\"r[{x}]\" for x in self.args))\n",
    "        function_name: str = getattr(self.function,\n",
    "                                     '__name__',\n",
    "                                     repr(self.function))\n",
    "        \n",
    "        return f\"r[{self.target}] <- {function_name}({args})\"\n",
    "\n",
    "@dataclass\n",
    "class ControlToEnd(Instruction):\n",
    "    linecount: int\n",
    "\n",
    "@dataclass\n",
    "class ControlNextLine(Instruction):\n",
    "    pass\n",
    "\n",
    "@dataclass\n",
    "class ControlToLabel(Instruction):\n",
    "    \"\"\"Control structure that ends at a label.\n",
    "    \"\"\"\n",
    "    tolabel: str\n",
    "\n",
    "@dataclass\n",
    "class ControlSpanLines(Instruction):\n",
    "    tolabel: str\n",
    "\n",
    "@dataclass\n",
    "class Label(Instruction):\n",
    "    name: str\n",
    "\n",
    "\n",
    "\n"
   ]
  },
  {
   "cell_type": "code",
   "execution_count": 15,
   "metadata": {},
   "outputs": [],
   "source": [
    "def add(x: float, y: float):\n",
    "    return x + y"
   ]
  },
  {
   "cell_type": "code",
   "execution_count": 22,
   "metadata": {},
   "outputs": [
    {
     "name": "stdout",
     "output_type": "stream",
     "text": [
      "r[1] <- add(r[2], r[3])\n"
     ]
    }
   ],
   "source": [
    "a = Operation(add, 1, (2, 3))\n",
    "print(a)"
   ]
  }
 ],
 "metadata": {
  "kernelspec": {
   "display_name": "Python 3",
   "language": "python",
   "name": "python3"
  },
  "language_info": {
   "codemirror_mode": {
    "name": "ipython",
    "version": 3
   },
   "file_extension": ".py",
   "mimetype": "text/x-python",
   "name": "python",
   "nbconvert_exporter": "python",
   "pygments_lexer": "ipython3",
   "version": "3.12.0"
  }
 },
 "nbformat": 4,
 "nbformat_minor": 2
}
